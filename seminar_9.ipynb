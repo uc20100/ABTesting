{
 "cells": [
  {
   "cell_type": "markdown",
   "id": "43c074ac",
   "metadata": {},
   "source": [
    "# ДЗ по ДЗ по \"A/B-тестирование (семинары)\"\n",
    "## Семинар 9. Python применение продвинутых методов\n",
    "## Задача\n",
    "Проанализируйте результаты эксперимента и напишите свои рекомендации менеджеру.  \n",
    "Mobile Games AB Testing with Cookie Cats\n"
   ]
  },
  {
   "cell_type": "code",
   "execution_count": 1,
   "id": "a71fc488",
   "metadata": {},
   "outputs": [],
   "source": [
    "from typing import Union\n",
    "from tqdm import tqdm\n",
    "\n",
    "import pandas as pd\n",
    "import numpy as np\n",
    "import plotly.express as px\n",
    "\n",
    "from scipy import stats\n",
    "from statsmodels.stats.meta_analysis import effectsize_smd\n",
    "from statsmodels.stats import proportion\n",
    "from statsmodels.stats.power import tt_ind_solve_power\n",
    "from statsmodels.stats.power import zt_ind_solve_power"
   ]
  },
  {
   "cell_type": "code",
   "execution_count": 2,
   "id": "8f3b453f",
   "metadata": {},
   "outputs": [],
   "source": [
    "data = pd.read_csv('data/gb_sem_9_hw.csv')"
   ]
  },
  {
   "cell_type": "code",
   "execution_count": 3,
   "id": "0c62b994",
   "metadata": {},
   "outputs": [
    {
     "data": {
      "text/html": [
       "<div>\n",
       "<style scoped>\n",
       "    .dataframe tbody tr th:only-of-type {\n",
       "        vertical-align: middle;\n",
       "    }\n",
       "\n",
       "    .dataframe tbody tr th {\n",
       "        vertical-align: top;\n",
       "    }\n",
       "\n",
       "    .dataframe thead th {\n",
       "        text-align: right;\n",
       "    }\n",
       "</style>\n",
       "<table border=\"1\" class=\"dataframe\">\n",
       "  <thead>\n",
       "    <tr style=\"text-align: right;\">\n",
       "      <th></th>\n",
       "      <th>userid</th>\n",
       "      <th>version</th>\n",
       "      <th>sum_gamerounds</th>\n",
       "      <th>retention_1</th>\n",
       "      <th>retention_7</th>\n",
       "    </tr>\n",
       "  </thead>\n",
       "  <tbody>\n",
       "    <tr>\n",
       "      <th>0</th>\n",
       "      <td>116</td>\n",
       "      <td>gate_30</td>\n",
       "      <td>3</td>\n",
       "      <td>False</td>\n",
       "      <td>False</td>\n",
       "    </tr>\n",
       "    <tr>\n",
       "      <th>1</th>\n",
       "      <td>337</td>\n",
       "      <td>gate_30</td>\n",
       "      <td>38</td>\n",
       "      <td>True</td>\n",
       "      <td>False</td>\n",
       "    </tr>\n",
       "    <tr>\n",
       "      <th>2</th>\n",
       "      <td>377</td>\n",
       "      <td>gate_40</td>\n",
       "      <td>165</td>\n",
       "      <td>True</td>\n",
       "      <td>False</td>\n",
       "    </tr>\n",
       "    <tr>\n",
       "      <th>3</th>\n",
       "      <td>483</td>\n",
       "      <td>gate_40</td>\n",
       "      <td>1</td>\n",
       "      <td>False</td>\n",
       "      <td>False</td>\n",
       "    </tr>\n",
       "    <tr>\n",
       "      <th>4</th>\n",
       "      <td>488</td>\n",
       "      <td>gate_40</td>\n",
       "      <td>179</td>\n",
       "      <td>True</td>\n",
       "      <td>True</td>\n",
       "    </tr>\n",
       "  </tbody>\n",
       "</table>\n",
       "</div>"
      ],
      "text/plain": [
       "   userid  version  sum_gamerounds  retention_1  retention_7\n",
       "0     116  gate_30               3        False        False\n",
       "1     337  gate_30              38         True        False\n",
       "2     377  gate_40             165         True        False\n",
       "3     483  gate_40               1        False        False\n",
       "4     488  gate_40             179         True         True"
      ]
     },
     "execution_count": 3,
     "metadata": {},
     "output_type": "execute_result"
    }
   ],
   "source": [
    "data.head()"
   ]
  },
  {
   "cell_type": "code",
   "execution_count": 4,
   "id": "4c336310",
   "metadata": {},
   "outputs": [
    {
     "name": "stdout",
     "output_type": "stream",
     "text": [
      "<class 'pandas.core.frame.DataFrame'>\n",
      "RangeIndex: 90189 entries, 0 to 90188\n",
      "Data columns (total 5 columns):\n",
      " #   Column          Non-Null Count  Dtype \n",
      "---  ------          --------------  ----- \n",
      " 0   userid          90189 non-null  int64 \n",
      " 1   version         90189 non-null  object\n",
      " 2   sum_gamerounds  90189 non-null  int64 \n",
      " 3   retention_1     90189 non-null  bool  \n",
      " 4   retention_7     90189 non-null  bool  \n",
      "dtypes: bool(2), int64(2), object(1)\n",
      "memory usage: 2.2+ MB\n"
     ]
    }
   ],
   "source": [
    "data.info()"
   ]
  },
  {
   "cell_type": "code",
   "execution_count": 5,
   "id": "497b37a3",
   "metadata": {},
   "outputs": [],
   "source": [
    "def continious_result(control: pd.DataFrame,\n",
    "                      treatment: pd.DataFrame,\n",
    "                      column: str,\n",
    "                      n_iters: int = 10_000) -> pd.DataFrame:\n",
    "    # Статистика по выборкам\n",
    "    size = control.loc[:, column].shape[0]\n",
    "    \n",
    "    control_mean = control.loc[:, column].mean()\n",
    "    treatment_mean = treatment.loc[:, column].mean()\n",
    "    \n",
    "    control_std = control.loc[:, column].std(ddof=1)\n",
    "    treatment_std = treatment.loc[:, column].std(ddof=1)\n",
    "    \n",
    "    # Бутсрап\n",
    "    booted_diff = []\n",
    "    for _ in tqdm(range(n_iters)):\n",
    "        control_sample = control.loc[:, column].sample(n=size, replace=True).values\n",
    "        treatment_sample = treatment.loc[:, column].sample(n=size, replace=True).values\n",
    "        booted_diff.append(np.mean(control_sample - treatment_sample))\n",
    "    \n",
    "    # Считаем статистику после бустрапа\n",
    "    md_ci, std_ci = np.mean(booted_diff), np.std(booted_diff, ddof=1)\n",
    "    left_ci, right_ci = np.percentile(booted_diff, [2.5, 97.5])\n",
    "    p_value_ci = 2 * (1 - stats.norm.cdf(np.abs(md_ci / std_ci)))\n",
    "    \n",
    "    # Считаем мощность эксперимента\n",
    "    effect_size, _ = effectsize_smd(mean1=treatment_mean, sd1=treatment_std, nobs1=size,\n",
    "                                    mean2=control_mean, sd2=control_std, nobs2=size)\n",
    "    power = tt_ind_solve_power(effect_size=effect_size,\n",
    "                               nobs1=size,\n",
    "                               alpha=.05,\n",
    "                               power=None,\n",
    "                               ratio=1)\n",
    "    # Формируем отчёт \n",
    "    result = pd.DataFrame({'effect_size': effect_size,\n",
    "                           'alpha': p_value_ci, \n",
    "                           'beta': (1-power),\n",
    "                           'CI': f'[{np.round(left_ci, 3)}, {np.round(right_ci, 3)}]',\n",
    "                           'difference': md_ci,},\n",
    "                          index=[column]) \n",
    "    return result"
   ]
  },
  {
   "cell_type": "code",
   "execution_count": 6,
   "id": "17602b97",
   "metadata": {},
   "outputs": [],
   "source": [
    "def proportion_result(control: pd.DataFrame,\n",
    "                      treatment: pd.DataFrame,\n",
    "                      column: str,\n",
    "                      n_iters: int = 10_000) -> pd.DataFrame:\n",
    "    # Вероятность событий\n",
    "    size = control.loc[:, column].shape[0]\n",
    "    prop_control = control.loc[:, column].sum() / size\n",
    "    prop_treatment = treatment.loc[:, column].sum() / size\n",
    "    \n",
    "    # Бутсрап\n",
    "    booted_diff = []\n",
    "    for _ in tqdm(range(n_iters)):\n",
    "        control_sample = stats.bernoulli.rvs(p=prop_control, size=size)\n",
    "        treatment_sample = stats.bernoulli.rvs(p=prop_treatment, size=size)\n",
    "        booted_diff.append(np.mean(control_sample - treatment_sample))\n",
    "    \n",
    "    # Считаем статистику после бустрапа\n",
    "    md_ci, std_ci = np.mean(booted_diff), np.std(booted_diff, ddof=1)\n",
    "    left_ci, right_ci = np.percentile(booted_diff, [2.5, 97.5])\n",
    "    p_value_ci = 2 * (1 - stats.norm.cdf(np.abs(md_ci / std_ci)))\n",
    "    \n",
    "    # Считаем мощность эксперимента\n",
    "    effect_size = proportion.proportion_effectsize(prop_control, prop_treatment)\n",
    "    \n",
    "    power = zt_ind_solve_power(effect_size=effect_size,\n",
    "                               nobs1=size,\n",
    "                               alpha=.05,\n",
    "                               power=None,\n",
    "                               ratio=1)\n",
    "    # Формируем отчёт \n",
    "    result = pd.DataFrame({'effect_size': effect_size,\n",
    "                           'alpha': p_value_ci, \n",
    "                           'beta': (1-power),\n",
    "                           'CI': f'[{np.round(left_ci, 3)}, {np.round(right_ci, 3)}]',\n",
    "                           'difference': md_ci,},\n",
    "                          index=[column]) \n",
    "    return result"
   ]
  },
  {
   "cell_type": "markdown",
   "id": "60a1e2e6",
   "metadata": {},
   "source": [
    "## Посмотрим сколько значений для А/В теста"
   ]
  },
  {
   "cell_type": "code",
   "execution_count": 7,
   "id": "d38d9d2c",
   "metadata": {},
   "outputs": [
    {
     "data": {
      "text/plain": [
       "(44700, 5)"
      ]
     },
     "execution_count": 7,
     "metadata": {},
     "output_type": "execute_result"
    }
   ],
   "source": [
    "data[data['version'] == 'gate_30'].shape"
   ]
  },
  {
   "cell_type": "code",
   "execution_count": 8,
   "id": "521b436e",
   "metadata": {},
   "outputs": [
    {
     "data": {
      "text/plain": [
       "(45489, 5)"
      ]
     },
     "execution_count": 8,
     "metadata": {},
     "output_type": "execute_result"
    }
   ],
   "source": [
    "data[data['version'] == 'gate_40'].shape"
   ]
  },
  {
   "cell_type": "markdown",
   "id": "7a6e4daf",
   "metadata": {},
   "source": [
    "## Проводим анализ на статистически значимые различия (стандартный)"
   ]
  },
  {
   "cell_type": "code",
   "execution_count": 9,
   "id": "f485fce4",
   "metadata": {},
   "outputs": [
    {
     "name": "stderr",
     "output_type": "stream",
     "text": [
      "100%|██████████| 10000/10000 [00:11<00:00, 873.99it/s]\n"
     ]
    },
    {
     "data": {
      "text/html": [
       "<div>\n",
       "<style scoped>\n",
       "    .dataframe tbody tr th:only-of-type {\n",
       "        vertical-align: middle;\n",
       "    }\n",
       "\n",
       "    .dataframe tbody tr th {\n",
       "        vertical-align: top;\n",
       "    }\n",
       "\n",
       "    .dataframe thead th {\n",
       "        text-align: right;\n",
       "    }\n",
       "</style>\n",
       "<table border=\"1\" class=\"dataframe\">\n",
       "  <thead>\n",
       "    <tr style=\"text-align: right;\">\n",
       "      <th></th>\n",
       "      <th>effect_size</th>\n",
       "      <th>alpha</th>\n",
       "      <th>beta</th>\n",
       "      <th>CI</th>\n",
       "      <th>difference</th>\n",
       "    </tr>\n",
       "  </thead>\n",
       "  <tbody>\n",
       "    <tr>\n",
       "      <th>sum_gamerounds</th>\n",
       "      <td>-0.005915</td>\n",
       "      <td>0.372228</td>\n",
       "      <td>0.856725</td>\n",
       "      <td>[-0.962, 4.099]</td>\n",
       "      <td>1.160034</td>\n",
       "    </tr>\n",
       "  </tbody>\n",
       "</table>\n",
       "</div>"
      ],
      "text/plain": [
       "                effect_size     alpha      beta               CI  difference\n",
       "sum_gamerounds    -0.005915  0.372228  0.856725  [-0.962, 4.099]    1.160034"
      ]
     },
     "execution_count": 9,
     "metadata": {},
     "output_type": "execute_result"
    }
   ],
   "source": [
    "continious_result(data[data['version'] == 'gate_30'], data[data['version'] == 'gate_40'], 'sum_gamerounds')"
   ]
  },
  {
   "cell_type": "markdown",
   "id": "55515fd8",
   "metadata": {},
   "source": [
    "## Проводим анализ на статистически значимые различия (с бакетами)"
   ]
  },
  {
   "cell_type": "code",
   "execution_count": 10,
   "id": "9086f2b9",
   "metadata": {},
   "outputs": [
    {
     "name": "stdout",
     "output_type": "stream",
     "text": [
      "Количество бакетов: 911\n"
     ]
    }
   ],
   "source": [
    "for _ in range(100, 1001): \n",
    "    if data.shape[0] % _ == 0:\n",
    "        print(f'Количество бакетов: {_}') "
   ]
  },
  {
   "cell_type": "markdown",
   "id": "ea98da1e",
   "metadata": {},
   "source": [
    "## Добавляем данные в бакеты"
   ]
  },
  {
   "cell_type": "code",
   "execution_count": 11,
   "id": "b9be0261",
   "metadata": {},
   "outputs": [],
   "source": [
    "n_buckets = 911\n",
    "data_2 = (data\n",
    " .sample(n=data.shape[0], replace=False)\n",
    " .reset_index(drop=True)\n",
    " .assign(bucket=list(range(n_buckets)) * int(data.shape[0] / n_buckets)))"
   ]
  },
  {
   "cell_type": "code",
   "execution_count": 12,
   "id": "3927a8af",
   "metadata": {},
   "outputs": [
    {
     "data": {
      "text/plain": [
       "<bound method NDFrame.head of         userid  version  sum_gamerounds  retention_1  retention_7  bucket\n",
       "0      2247253  gate_40               6        False        False       0\n",
       "1      1251901  gate_40             125         True        False       1\n",
       "2      8730349  gate_30             131         True         True       2\n",
       "3      8659794  gate_40              14         True        False       3\n",
       "4      8270245  gate_30              10         True        False       4\n",
       "...        ...      ...             ...          ...          ...     ...\n",
       "90184  4293234  gate_30               0        False         True     906\n",
       "90185  3124586  gate_40              10        False        False     907\n",
       "90186  2333660  gate_30               4        False        False     908\n",
       "90187  3784795  gate_30               1        False        False     909\n",
       "90188   225892  gate_30              14        False        False     910\n",
       "\n",
       "[90189 rows x 6 columns]>"
      ]
     },
     "execution_count": 12,
     "metadata": {},
     "output_type": "execute_result"
    }
   ],
   "source": [
    "data_2.head"
   ]
  },
  {
   "cell_type": "markdown",
   "id": "94861c07",
   "metadata": {},
   "source": [
    "## Подсчитываем среднее по бакетам"
   ]
  },
  {
   "cell_type": "code",
   "execution_count": 13,
   "id": "6e0129ef",
   "metadata": {},
   "outputs": [
    {
     "data": {
      "text/html": [
       "<div>\n",
       "<style scoped>\n",
       "    .dataframe tbody tr th:only-of-type {\n",
       "        vertical-align: middle;\n",
       "    }\n",
       "\n",
       "    .dataframe tbody tr th {\n",
       "        vertical-align: top;\n",
       "    }\n",
       "\n",
       "    .dataframe thead th {\n",
       "        text-align: right;\n",
       "    }\n",
       "</style>\n",
       "<table border=\"1\" class=\"dataframe\">\n",
       "  <thead>\n",
       "    <tr style=\"text-align: right;\">\n",
       "      <th></th>\n",
       "      <th>version</th>\n",
       "      <th>bucket</th>\n",
       "      <th>mu</th>\n",
       "    </tr>\n",
       "  </thead>\n",
       "  <tbody>\n",
       "    <tr>\n",
       "      <th>0</th>\n",
       "      <td>gate_30</td>\n",
       "      <td>0</td>\n",
       "      <td>53.046512</td>\n",
       "    </tr>\n",
       "    <tr>\n",
       "      <th>1</th>\n",
       "      <td>gate_30</td>\n",
       "      <td>1</td>\n",
       "      <td>38.812500</td>\n",
       "    </tr>\n",
       "    <tr>\n",
       "      <th>2</th>\n",
       "      <td>gate_30</td>\n",
       "      <td>2</td>\n",
       "      <td>62.061224</td>\n",
       "    </tr>\n",
       "    <tr>\n",
       "      <th>3</th>\n",
       "      <td>gate_30</td>\n",
       "      <td>3</td>\n",
       "      <td>47.416667</td>\n",
       "    </tr>\n",
       "    <tr>\n",
       "      <th>4</th>\n",
       "      <td>gate_30</td>\n",
       "      <td>4</td>\n",
       "      <td>44.130435</td>\n",
       "    </tr>\n",
       "    <tr>\n",
       "      <th>...</th>\n",
       "      <td>...</td>\n",
       "      <td>...</td>\n",
       "      <td>...</td>\n",
       "    </tr>\n",
       "    <tr>\n",
       "      <th>1817</th>\n",
       "      <td>gate_40</td>\n",
       "      <td>906</td>\n",
       "      <td>43.239130</td>\n",
       "    </tr>\n",
       "    <tr>\n",
       "      <th>1818</th>\n",
       "      <td>gate_40</td>\n",
       "      <td>907</td>\n",
       "      <td>47.469388</td>\n",
       "    </tr>\n",
       "    <tr>\n",
       "      <th>1819</th>\n",
       "      <td>gate_40</td>\n",
       "      <td>908</td>\n",
       "      <td>44.250000</td>\n",
       "    </tr>\n",
       "    <tr>\n",
       "      <th>1820</th>\n",
       "      <td>gate_40</td>\n",
       "      <td>909</td>\n",
       "      <td>45.526316</td>\n",
       "    </tr>\n",
       "    <tr>\n",
       "      <th>1821</th>\n",
       "      <td>gate_40</td>\n",
       "      <td>910</td>\n",
       "      <td>45.854545</td>\n",
       "    </tr>\n",
       "  </tbody>\n",
       "</table>\n",
       "<p>1822 rows × 3 columns</p>\n",
       "</div>"
      ],
      "text/plain": [
       "      version  bucket         mu\n",
       "0     gate_30       0  53.046512\n",
       "1     gate_30       1  38.812500\n",
       "2     gate_30       2  62.061224\n",
       "3     gate_30       3  47.416667\n",
       "4     gate_30       4  44.130435\n",
       "...       ...     ...        ...\n",
       "1817  gate_40     906  43.239130\n",
       "1818  gate_40     907  47.469388\n",
       "1819  gate_40     908  44.250000\n",
       "1820  gate_40     909  45.526316\n",
       "1821  gate_40     910  45.854545\n",
       "\n",
       "[1822 rows x 3 columns]"
      ]
     },
     "execution_count": 13,
     "metadata": {},
     "output_type": "execute_result"
    }
   ],
   "source": [
    "bucketed_data_2 = data_2.groupby(['version', 'bucket'])['sum_gamerounds'].agg(mu=np.mean).reset_index()\n",
    "bucketed_data_2"
   ]
  },
  {
   "cell_type": "code",
   "execution_count": 14,
   "id": "01ca1bec",
   "metadata": {},
   "outputs": [
    {
     "data": {
      "text/plain": [
       "(51.87246, 51.87593)"
      ]
     },
     "execution_count": 14,
     "metadata": {},
     "output_type": "execute_result"
    }
   ],
   "source": [
    "# Сравним исходное выборочное среднее и среднее бакетных средних \n",
    "round(np.mean(data[\"sum_gamerounds\"]), 5), round(np.mean(bucketed_data_2[\"mu\"]), 5)"
   ]
  },
  {
   "cell_type": "markdown",
   "id": "800f0984",
   "metadata": {},
   "source": [
    "## Вычисляем стат значимость по метрике \"sum_gamerounds\""
   ]
  },
  {
   "cell_type": "code",
   "execution_count": 15,
   "id": "b057c060",
   "metadata": {},
   "outputs": [
    {
     "name": "stderr",
     "output_type": "stream",
     "text": [
      "100%|██████████| 10000/10000 [00:01<00:00, 9515.18it/s]\n"
     ]
    },
    {
     "data": {
      "text/html": [
       "<div>\n",
       "<style scoped>\n",
       "    .dataframe tbody tr th:only-of-type {\n",
       "        vertical-align: middle;\n",
       "    }\n",
       "\n",
       "    .dataframe tbody tr th {\n",
       "        vertical-align: top;\n",
       "    }\n",
       "\n",
       "    .dataframe thead th {\n",
       "        text-align: right;\n",
       "    }\n",
       "</style>\n",
       "<table border=\"1\" class=\"dataframe\">\n",
       "  <thead>\n",
       "    <tr style=\"text-align: right;\">\n",
       "      <th></th>\n",
       "      <th>effect_size</th>\n",
       "      <th>alpha</th>\n",
       "      <th>beta</th>\n",
       "      <th>CI</th>\n",
       "      <th>difference</th>\n",
       "    </tr>\n",
       "  </thead>\n",
       "  <tbody>\n",
       "    <tr>\n",
       "      <th>mu</th>\n",
       "      <td>-0.04394</td>\n",
       "      <td>0.333638</td>\n",
       "      <td>0.844886</td>\n",
       "      <td>[-0.909, 4.22]</td>\n",
       "      <td>1.275064</td>\n",
       "    </tr>\n",
       "  </tbody>\n",
       "</table>\n",
       "</div>"
      ],
      "text/plain": [
       "    effect_size     alpha      beta              CI  difference\n",
       "mu     -0.04394  0.333638  0.844886  [-0.909, 4.22]    1.275064"
      ]
     },
     "execution_count": 15,
     "metadata": {},
     "output_type": "execute_result"
    }
   ],
   "source": [
    "control_bucket = bucketed_data_2[bucketed_data_2.version == 'gate_30']\n",
    "treatment_bucket = bucketed_data_2[bucketed_data_2.version == 'gate_40']\n",
    "continious_result(control_bucket, treatment_bucket, 'mu')"
   ]
  },
  {
   "cell_type": "markdown",
   "id": "9fa0a30b",
   "metadata": {},
   "source": [
    "## Вывод: Стандартная функция посчитала в 11 раз медленнее чем с бакетами, результаты сходятся. Для метрики \"sum_gamerounds\" - Alpha > 5%, Beta>20%, доверительный интервал CI захватывает 0, можно было сказать, что статистически значимых различий нет между версиями, но следует заметить, что мощность теста power = 1-Beta, менее 20%. Мои рекомендации увеличить мощность теста до 80%. "
   ]
  },
  {
   "cell_type": "markdown",
   "id": "84abb238",
   "metadata": {},
   "source": [
    "## Вычисляем стат значимость по метрике \"retention_1\""
   ]
  },
  {
   "cell_type": "code",
   "execution_count": 16,
   "id": "5c03a29e",
   "metadata": {},
   "outputs": [
    {
     "name": "stderr",
     "output_type": "stream",
     "text": [
      "100%|██████████| 10000/10000 [00:13<00:00, 764.54it/s]\n"
     ]
    },
    {
     "data": {
      "text/html": [
       "<div>\n",
       "<style scoped>\n",
       "    .dataframe tbody tr th:only-of-type {\n",
       "        vertical-align: middle;\n",
       "    }\n",
       "\n",
       "    .dataframe tbody tr th {\n",
       "        vertical-align: top;\n",
       "    }\n",
       "\n",
       "    .dataframe thead th {\n",
       "        text-align: right;\n",
       "    }\n",
       "</style>\n",
       "<table border=\"1\" class=\"dataframe\">\n",
       "  <thead>\n",
       "    <tr style=\"text-align: right;\">\n",
       "      <th></th>\n",
       "      <th>effect_size</th>\n",
       "      <th>alpha</th>\n",
       "      <th>beta</th>\n",
       "      <th>CI</th>\n",
       "      <th>difference</th>\n",
       "    </tr>\n",
       "  </thead>\n",
       "  <tbody>\n",
       "    <tr>\n",
       "      <th>retention_1</th>\n",
       "      <td>-0.003823</td>\n",
       "      <td>0.560444</td>\n",
       "      <td>0.911819</td>\n",
       "      <td>[-0.009, 0.005]</td>\n",
       "      <td>-0.001959</td>\n",
       "    </tr>\n",
       "  </tbody>\n",
       "</table>\n",
       "</div>"
      ],
      "text/plain": [
       "             effect_size     alpha      beta               CI  difference\n",
       "retention_1    -0.003823  0.560444  0.911819  [-0.009, 0.005]   -0.001959"
      ]
     },
     "execution_count": 16,
     "metadata": {},
     "output_type": "execute_result"
    }
   ],
   "source": [
    "proportion_result(data[data['version'] == 'gate_30'], data[data['version'] == 'gate_40'], 'retention_1')"
   ]
  },
  {
   "cell_type": "markdown",
   "id": "bc7a3e30",
   "metadata": {},
   "source": [
    "## Вывод: Статистически значимых различий нет, но мощность теста маловата"
   ]
  },
  {
   "cell_type": "markdown",
   "id": "787602e6",
   "metadata": {},
   "source": [
    "## Вычисляем стат значимость по метрике \"retention_7\""
   ]
  },
  {
   "cell_type": "code",
   "execution_count": 17,
   "id": "e08c585e",
   "metadata": {},
   "outputs": [
    {
     "name": "stderr",
     "output_type": "stream",
     "text": [
      "100%|██████████| 10000/10000 [00:09<00:00, 1051.37it/s]\n"
     ]
    },
    {
     "data": {
      "text/html": [
       "<div>\n",
       "<style scoped>\n",
       "    .dataframe tbody tr th:only-of-type {\n",
       "        vertical-align: middle;\n",
       "    }\n",
       "\n",
       "    .dataframe tbody tr th {\n",
       "        vertical-align: top;\n",
       "    }\n",
       "\n",
       "    .dataframe thead th {\n",
       "        text-align: right;\n",
       "    }\n",
       "</style>\n",
       "<table border=\"1\" class=\"dataframe\">\n",
       "  <thead>\n",
       "    <tr style=\"text-align: right;\">\n",
       "      <th></th>\n",
       "      <th>effect_size</th>\n",
       "      <th>alpha</th>\n",
       "      <th>beta</th>\n",
       "      <th>CI</th>\n",
       "      <th>difference</th>\n",
       "    </tr>\n",
       "  </thead>\n",
       "  <tbody>\n",
       "    <tr>\n",
       "      <th>retention_7</th>\n",
       "      <td>0.012776</td>\n",
       "      <td>0.056683</td>\n",
       "      <td>0.519844</td>\n",
       "      <td>[-0.0, 0.01]</td>\n",
       "      <td>0.004984</td>\n",
       "    </tr>\n",
       "  </tbody>\n",
       "</table>\n",
       "</div>"
      ],
      "text/plain": [
       "             effect_size     alpha      beta            CI  difference\n",
       "retention_7     0.012776  0.056683  0.519844  [-0.0, 0.01]    0.004984"
      ]
     },
     "execution_count": 17,
     "metadata": {},
     "output_type": "execute_result"
    }
   ],
   "source": [
    "proportion_result(data[data['version'] == 'gate_30'], data[data['version'] == 'gate_40'], 'retention_7')"
   ]
  },
  {
   "cell_type": "markdown",
   "id": "22c4ec21",
   "metadata": {},
   "source": [
    "## Вывод: Прям на грани, если еще немного поднять мощность теста, может покажет статистически значимые различия"
   ]
  }
 ],
 "metadata": {
  "kernelspec": {
   "display_name": "Python 3 (ipykernel)",
   "language": "python",
   "name": "python3"
  },
  "language_info": {
   "codemirror_mode": {
    "name": "ipython",
    "version": 3
   },
   "file_extension": ".py",
   "mimetype": "text/x-python",
   "name": "python",
   "nbconvert_exporter": "python",
   "pygments_lexer": "ipython3",
   "version": "3.9.13"
  }
 },
 "nbformat": 4,
 "nbformat_minor": 5
}
