{
 "cells": [
  {
   "cell_type": "markdown",
   "id": "5ca71eb7",
   "metadata": {},
   "source": [
    "# ДЗ по ДЗ по \"A/B-тестирование (семинары)\"\n",
    "## Семинар 6. Расчёт длительности А/B теста + продвинутые топики\n",
    "## Задача 1\n",
    "Продакт на главной mail.ru решил протестировать в рекомендательной ленте контента вместо карточек со статьями видеоплеер с короткими видео. Нынешний таймспент на юзера в день в среднем равен 25 минут, а стандартная ошибка (SD) равна 156. Мы предполагаем, что в новой версии таймспент на юзера в день изменится на 10%. Средний трафик 20000 человек в день. Посчитайте сколько дней необходимо держать эксперимент при alpha = 5% и beta = 20% ."
   ]
  },
  {
   "cell_type": "code",
   "execution_count": 1,
   "id": "4aa52cc4",
   "metadata": {},
   "outputs": [],
   "source": [
    "# импорт необходимых библиотек\n",
    "from statsmodels.stats.power import tt_ind_solve_power, zt_ind_solve_power\n",
    "from statsmodels.stats.proportion import proportion_effectsize\n",
    "from statsmodels.stats.meta_analysis import effectsize_smd\n",
    "from typing import Union\n",
    "from scipy import stats\n",
    "from math import asin, ceil\n",
    "import numpy as np"
   ]
  },
  {
   "cell_type": "code",
   "execution_count": 2,
   "id": "9100dc54",
   "metadata": {},
   "outputs": [],
   "source": [
    "#Расчёт effect_size для пропорций\n",
    "def calc_propotion_effect_size(conv_1: int, nobs_1: int, conv_2: int, nobs_2: int):\n",
    "    prob_1, prob_2 = conv_1 / nobs_1, conv_2 / nobs_2\n",
    "    \n",
    "    es_formula = 2  * asin(np.sqrt(prob_1)) - 2 * asin(np.sqrt(prob_2))\n",
    "    es_import = proportion_effectsize(prob_1, prob_2)\n",
    "    \n",
    "    return es_formula, es_import\n",
    "\n",
    "#Расчёт effect_size для непрерывных метрик\n",
    "def calc_continuous_effect_size(mean_1: Union[float, int],\n",
    "                                std_1: Union[float, int],\n",
    "                                mean_2: Union[float, int],\n",
    "                                std_2: Union[float, int],\n",
    "                                nobs_1: int = 10_000,\n",
    "                                nobs_2: int = 10_000):\n",
    "    \n",
    "    es_formula = (mean_1 - mean_2) / ((std_1**2 + std_2**2) / 2) ** 0.5\n",
    "    es_import = effectsize_smd(mean_1, std_1, nobs_1, mean_2, std_2, nobs_2)[0]\n",
    "    \n",
    "    return es_formula, es_import "
   ]
  },
  {
   "cell_type": "code",
   "execution_count": 3,
   "id": "d31c2ab0",
   "metadata": {},
   "outputs": [],
   "source": [
    "#Расчёт минимально необходимой выборки * 2(для теста и контроля) для пропорций\n",
    "def calc_sample_size_proportion(effect_size: float,\n",
    "                                alpha: float = .05,\n",
    "                                beta: float = .2,\n",
    "                                ratio: Union[float, int] = 1):\n",
    "    \n",
    "    n = zt_ind_solve_power(effect_size=effect_size,\n",
    "                           alpha=alpha,\n",
    "                           power=(1 - beta),\n",
    "                           ratio=ratio,\n",
    "                  )\n",
    "    return int(n * 2)\n",
    "#Расчёт минимально необходимой выборки * 2(для теста и контроля) для непрерывной метрики\n",
    "def calc_sample_size_continuous(effect_size: float,\n",
    "                                alpha: float = .05,\n",
    "                                beta: float = .2,\n",
    "                                ratio: Union[float, int] = 1):\n",
    "    \n",
    "    n = tt_ind_solve_power(effect_size=effect_size,\n",
    "                           alpha=alpha,\n",
    "                           power=(1 - beta),\n",
    "                           ratio=ratio,\n",
    "                  )\n",
    "    return int(n * 2)"
   ]
  },
  {
   "cell_type": "code",
   "execution_count": 4,
   "id": "dbc2e2c6",
   "metadata": {},
   "outputs": [
    {
     "data": {
      "text/plain": [
       "(-0.01602564102564105, -0.016025039996486808)"
      ]
     },
     "execution_count": 4,
     "metadata": {},
     "output_type": "execute_result"
    }
   ],
   "source": [
    "mu_control, mu_test = 25, 25*1.1\n",
    "std_control, std_test = 156, 156\n",
    "trafic_day = 20_000\n",
    "\n",
    "calc_continuous_effect_size(mean_1=mu_control, std_1=std_control, mean_2=mu_test, std_2=std_test)"
   ]
  },
  {
   "cell_type": "code",
   "execution_count": 5,
   "id": "0015c933",
   "metadata": {},
   "outputs": [
    {
     "name": "stdout",
     "output_type": "stream",
     "text": [
      "Длительность эксперимента (дней): 7\n"
     ]
    }
   ],
   "source": [
    "effect_size = calc_continuous_effect_size(mean_1=mu_control, std_1=std_control, mean_2=mu_test, std_2=std_test)[1]\n",
    "days = ceil(calc_sample_size_continuous(effect_size=effect_size, alpha=.05, beta=.2)/trafic_day)\n",
    "print(f'Длительность эксперимента (дней): {days}')"
   ]
  },
  {
   "cell_type": "markdown",
   "id": "6e623338",
   "metadata": {},
   "source": [
    "## Задача 2\n",
    "Наша продуктовая команда в ecommerce магазине планирует запустить тест, направленный на ускорение загрузки сайта. Одна из основных метрик bounce rate в GA = 40%. Мы предполагаем, что при оптимизации сайта она изменится минимум на 20%.Средний трафик 4000 человек в день. Посчитайте сколько нам нужно дней держать эксперимент при alpha = 5% и beta = 20%"
   ]
  },
  {
   "cell_type": "code",
   "execution_count": 6,
   "id": "e7069c23",
   "metadata": {},
   "outputs": [
    {
     "name": "stdout",
     "output_type": "stream",
     "text": [
      "0.4 0.48\n"
     ]
    },
    {
     "data": {
      "text/plain": [
       "(-0.1613472464363419, -0.1613472464363419)"
      ]
     },
     "execution_count": 6,
     "metadata": {},
     "output_type": "execute_result"
    }
   ],
   "source": [
    "bounce_rate_1, bounce_rate_2 = 40, 40*1.2\n",
    "nobs_1, nobs_2 = 100, 100\n",
    "trafic_day = 4_000\n",
    "\n",
    "prob_1, prob_2 = bounce_rate_1 / nobs_1, bounce_rate_2 / nobs_2 \n",
    "print(prob_1, prob_2)\n",
    "calc_propotion_effect_size(conv_1=bounce_rate_1, nobs_1=nobs_1, conv_2=bounce_rate_2, nobs_2=nobs_2)"
   ]
  },
  {
   "cell_type": "code",
   "execution_count": 7,
   "id": "ffa77c29",
   "metadata": {},
   "outputs": [
    {
     "name": "stdout",
     "output_type": "stream",
     "text": [
      "Длительность эксперимента (дней): 1\n"
     ]
    }
   ],
   "source": [
    "effect_size = calc_propotion_effect_size(conv_1=bounce_rate_1, nobs_1=nobs_1, conv_2=bounce_rate_2, nobs_2=nobs_2)[1]\n",
    "days = ceil(calc_sample_size_proportion(effect_size=effect_size, alpha=.05, beta=.2)/trafic_day)\n",
    "print(f'Длительность эксперимента (дней): {days}')"
   ]
  },
  {
   "cell_type": "code",
   "execution_count": null,
   "id": "b864f65c",
   "metadata": {},
   "outputs": [],
   "source": []
  }
 ],
 "metadata": {
  "kernelspec": {
   "display_name": "Python 3 (ipykernel)",
   "language": "python",
   "name": "python3"
  },
  "language_info": {
   "codemirror_mode": {
    "name": "ipython",
    "version": 3
   },
   "file_extension": ".py",
   "mimetype": "text/x-python",
   "name": "python",
   "nbconvert_exporter": "python",
   "pygments_lexer": "ipython3",
   "version": "3.9.13"
  }
 },
 "nbformat": 4,
 "nbformat_minor": 5
}
